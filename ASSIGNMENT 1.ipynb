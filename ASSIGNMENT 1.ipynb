{
 "cells": [
  {
   "cell_type": "markdown",
   "metadata": {},
   "source": [
    "**AI ML SMARTBRIDGE - GOOGLE EXTERNSHIP ASSIGNMENT 1**\\\n",
    "**NINAD NILESH SUGANDHI**"
   ]
  },
  {
   "cell_type": "markdown",
   "metadata": {},
   "source": [
    "**Importing necessary libraries**"
   ]
  },
  {
   "cell_type": "code",
   "execution_count": 1,
   "metadata": {},
   "outputs": [],
   "source": [
    "import pandas as pd\n",
    "import numpy as np"
   ]
  },
  {
   "cell_type": "markdown",
   "metadata": {},
   "source": [
    "**Defining the Data and displaying the data**"
   ]
  },
  {
   "cell_type": "code",
   "execution_count": 2,
   "metadata": {},
   "outputs": [
    {
     "data": {
      "text/plain": [
       "{'Issue no.': array([ 2, 63,  3, 25, 14, 42, 35,  2, 22, 29]),\n",
       " 'Restore Probability': array([0.53897128, 0.04884471, 0.50649048, 0.12454466, 0.50078695,\n",
       "        0.38110767, 0.18673843, 0.23305518, 0.07513999, 0.09631251]),\n",
       " 'Hacker type': array(['Black', 'Red', 'White', 'Red', 'White', 'Black', 'Red', 'Black',\n",
       "        'Red', 'Red'], dtype='<U5'),\n",
       " 'Treatment': array([False, False,  True,  True, False,  True,  True, False, False,\n",
       "        False]),\n",
       " 'Type of Cyber Attack': array(['Adware', 'Adware', 'Adware', 'Ransomware', 'DOS', 'DOS',\n",
       "        'Ransomware', 'Ransomware', 'Ransomware', 'DOS'], dtype='<U10')}"
      ]
     },
     "execution_count": 2,
     "metadata": {},
     "output_type": "execute_result"
    }
   ],
   "source": [
    "data = {'Issue no.': np.random.randint(1, 100, 10), 'Restore Probability': np.random.rand(10), 'Hacker type': np.random.choice(['Red', 'Black', 'White'], size=10), 'Treatment': np.random.choice([True, False], size=10),\n",
    "        'Type of Cyber Attack': np.random.choice(['Adware', 'Ransomware', 'DOS'], size=10)}\n",
    "data"
   ]
  },
  {
   "cell_type": "markdown",
   "metadata": {},
   "source": [
    "**Task 1 - Creating Dataframe and displaying the dataframe**"
   ]
  },
  {
   "cell_type": "code",
   "execution_count": 3,
   "metadata": {},
   "outputs": [
    {
     "data": {
      "text/html": [
       "<div>\n",
       "<style scoped>\n",
       "    .dataframe tbody tr th:only-of-type {\n",
       "        vertical-align: middle;\n",
       "    }\n",
       "\n",
       "    .dataframe tbody tr th {\n",
       "        vertical-align: top;\n",
       "    }\n",
       "\n",
       "    .dataframe thead th {\n",
       "        text-align: right;\n",
       "    }\n",
       "</style>\n",
       "<table border=\"1\" class=\"dataframe\">\n",
       "  <thead>\n",
       "    <tr style=\"text-align: right;\">\n",
       "      <th></th>\n",
       "      <th>Issue no.</th>\n",
       "      <th>Restore Probability</th>\n",
       "      <th>Hacker type</th>\n",
       "      <th>Treatment</th>\n",
       "      <th>Type of Cyber Attack</th>\n",
       "    </tr>\n",
       "  </thead>\n",
       "  <tbody>\n",
       "    <tr>\n",
       "      <th>0</th>\n",
       "      <td>2</td>\n",
       "      <td>0.538971</td>\n",
       "      <td>Black</td>\n",
       "      <td>False</td>\n",
       "      <td>Adware</td>\n",
       "    </tr>\n",
       "    <tr>\n",
       "      <th>1</th>\n",
       "      <td>63</td>\n",
       "      <td>0.048845</td>\n",
       "      <td>Red</td>\n",
       "      <td>False</td>\n",
       "      <td>Adware</td>\n",
       "    </tr>\n",
       "    <tr>\n",
       "      <th>2</th>\n",
       "      <td>3</td>\n",
       "      <td>0.506490</td>\n",
       "      <td>White</td>\n",
       "      <td>True</td>\n",
       "      <td>Adware</td>\n",
       "    </tr>\n",
       "    <tr>\n",
       "      <th>3</th>\n",
       "      <td>25</td>\n",
       "      <td>0.124545</td>\n",
       "      <td>Red</td>\n",
       "      <td>True</td>\n",
       "      <td>Ransomware</td>\n",
       "    </tr>\n",
       "    <tr>\n",
       "      <th>4</th>\n",
       "      <td>14</td>\n",
       "      <td>0.500787</td>\n",
       "      <td>White</td>\n",
       "      <td>False</td>\n",
       "      <td>DOS</td>\n",
       "    </tr>\n",
       "    <tr>\n",
       "      <th>5</th>\n",
       "      <td>42</td>\n",
       "      <td>0.381108</td>\n",
       "      <td>Black</td>\n",
       "      <td>True</td>\n",
       "      <td>DOS</td>\n",
       "    </tr>\n",
       "    <tr>\n",
       "      <th>6</th>\n",
       "      <td>35</td>\n",
       "      <td>0.186738</td>\n",
       "      <td>Red</td>\n",
       "      <td>True</td>\n",
       "      <td>Ransomware</td>\n",
       "    </tr>\n",
       "    <tr>\n",
       "      <th>7</th>\n",
       "      <td>2</td>\n",
       "      <td>0.233055</td>\n",
       "      <td>Black</td>\n",
       "      <td>False</td>\n",
       "      <td>Ransomware</td>\n",
       "    </tr>\n",
       "    <tr>\n",
       "      <th>8</th>\n",
       "      <td>22</td>\n",
       "      <td>0.075140</td>\n",
       "      <td>Red</td>\n",
       "      <td>False</td>\n",
       "      <td>Ransomware</td>\n",
       "    </tr>\n",
       "    <tr>\n",
       "      <th>9</th>\n",
       "      <td>29</td>\n",
       "      <td>0.096313</td>\n",
       "      <td>Red</td>\n",
       "      <td>False</td>\n",
       "      <td>DOS</td>\n",
       "    </tr>\n",
       "  </tbody>\n",
       "</table>\n",
       "</div>"
      ],
      "text/plain": [
       "   Issue no.  Restore Probability Hacker type  Treatment Type of Cyber Attack\n",
       "0          2             0.538971       Black      False               Adware\n",
       "1         63             0.048845         Red      False               Adware\n",
       "2          3             0.506490       White       True               Adware\n",
       "3         25             0.124545         Red       True           Ransomware\n",
       "4         14             0.500787       White      False                  DOS\n",
       "5         42             0.381108       Black       True                  DOS\n",
       "6         35             0.186738         Red       True           Ransomware\n",
       "7          2             0.233055       Black      False           Ransomware\n",
       "8         22             0.075140         Red      False           Ransomware\n",
       "9         29             0.096313         Red      False                  DOS"
      ]
     },
     "execution_count": 3,
     "metadata": {},
     "output_type": "execute_result"
    }
   ],
   "source": [
    "df = pd.DataFrame(data)\n",
    "df"
   ]
  },
  {
   "cell_type": "markdown",
   "metadata": {},
   "source": [
    "**Task 2 - Displaying the info of the Dataframe**"
   ]
  },
  {
   "cell_type": "code",
   "execution_count": 4,
   "metadata": {},
   "outputs": [
    {
     "name": "stdout",
     "output_type": "stream",
     "text": [
      "Info of 'df':\n",
      "<class 'pandas.core.frame.DataFrame'>\n",
      "RangeIndex: 10 entries, 0 to 9\n",
      "Data columns (total 5 columns):\n",
      " #   Column                Non-Null Count  Dtype  \n",
      "---  ------                --------------  -----  \n",
      " 0   Issue no.             10 non-null     int32  \n",
      " 1   Restore Probability   10 non-null     float64\n",
      " 2   Hacker type           10 non-null     object \n",
      " 3   Treatment             10 non-null     bool   \n",
      " 4   Type of Cyber Attack  10 non-null     object \n",
      "dtypes: bool(1), float64(1), int32(1), object(2)\n",
      "memory usage: 418.0+ bytes\n",
      "None\n"
     ]
    }
   ],
   "source": [
    "print(\"Info of 'df':\")\n",
    "print(df.info())"
   ]
  },
  {
   "cell_type": "markdown",
   "metadata": {},
   "source": [
    "**Task 3 - Describing the Dataframe**"
   ]
  },
  {
   "cell_type": "code",
   "execution_count": 5,
   "metadata": {},
   "outputs": [
    {
     "name": "stdout",
     "output_type": "stream",
     "text": [
      "Descriptive statistics of 'df':\n",
      "       Issue no.  Restore Probability\n",
      "count  10.000000            10.000000\n",
      "mean   23.700000             0.269199\n",
      "std    19.731813             0.194473\n",
      "min     2.000000             0.048845\n",
      "25%     5.750000             0.103371\n",
      "50%    23.500000             0.209897\n",
      "75%    33.500000             0.470867\n",
      "max    63.000000             0.538971\n"
     ]
    }
   ],
   "source": [
    "print(\"Descriptive statistics of 'df':\")\n",
    "print(df.describe())"
   ]
  },
  {
   "cell_type": "markdown",
   "metadata": {},
   "source": [
    "**Task 4 - Checking the 4th index observation with 'loc' slicing operator**"
   ]
  },
  {
   "cell_type": "code",
   "execution_count": 6,
   "metadata": {},
   "outputs": [
    {
     "name": "stdout",
     "output_type": "stream",
     "text": [
      "4th index observation with 'loc':\n",
      "Issue no.                     14\n",
      "Restore Probability     0.500787\n",
      "Hacker type                White\n",
      "Treatment                  False\n",
      "Type of Cyber Attack         DOS\n",
      "Name: 4, dtype: object\n"
     ]
    }
   ],
   "source": [
    "print(\"4th index observation with 'loc':\")\n",
    "print(df.loc[4])"
   ]
  },
  {
   "cell_type": "markdown",
   "metadata": {},
   "source": [
    "**Task 5 - Checking the null values in the dataframe and displaying the sum of the null values**"
   ]
  },
  {
   "cell_type": "code",
   "execution_count": 7,
   "metadata": {},
   "outputs": [
    {
     "name": "stdout",
     "output_type": "stream",
     "text": [
      "Null values in 'df':\n",
      "Issue no.               0\n",
      "Restore Probability     0\n",
      "Hacker type             0\n",
      "Treatment               0\n",
      "Type of Cyber Attack    0\n",
      "dtype: int64\n"
     ]
    }
   ],
   "source": [
    "print(\"Null values in 'df':\")\n",
    "print(df.isnull().sum())"
   ]
  }
 ],
 "metadata": {
  "kernelspec": {
   "display_name": "base",
   "language": "python",
   "name": "python3"
  },
  "language_info": {
   "codemirror_mode": {
    "name": "ipython",
    "version": 3
   },
   "file_extension": ".py",
   "mimetype": "text/x-python",
   "name": "python",
   "nbconvert_exporter": "python",
   "pygments_lexer": "ipython3",
   "version": "3.10.9"
  },
  "orig_nbformat": 4
 },
 "nbformat": 4,
 "nbformat_minor": 2
}
